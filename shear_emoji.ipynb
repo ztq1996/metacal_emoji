{
 "cells": [
  {
   "cell_type": "code",
   "execution_count": 8,
   "metadata": {},
   "outputs": [],
   "source": [
    "# pip install pillow requests numpy\n",
    "\n",
    "import io, os, math, requests\n",
    "import numpy as np\n",
    "from PIL import Image\n"
   ]
  },
  {
   "cell_type": "code",
   "execution_count": 9,
   "metadata": {},
   "outputs": [],
   "source": [
    "\n",
    "# ---- Config ----\n",
    "E_MAG = 0.30             # shear magnitude for e1/e2 variants\n",
    "CANVAS = (512, 512)      # output canvas size\n",
    "OUTDIR = \"twemoji_shears\"\n",
    "os.makedirs(OUTDIR, exist_ok=True)\n",
    "\n",
    "# Twemoji \"🙂\" (U+1F642) asset (pick PNG 72x72; could also use SVG)\n",
    "TWE_URL = \"https://cdnjs.cloudflare.com/ajax/libs/twemoji/14.0.2/72x72/1f642.png\"\n",
    "\n",
    "\n",
    "def download_png(url: str) -> Image.Image:\n",
    "    r = requests.get(url, timeout=20)\n",
    "    r.raise_for_status()\n",
    "    return Image.open(io.BytesIO(r.content)).convert(\"RGBA\")\n",
    "\n",
    "def paste_center(img: Image.Image, size=CANVAS) -> Image.Image:\n",
    "    \"\"\"Paste image centered on transparent canvas, keeping original aspect.\"\"\"\n",
    "    canvas = Image.new(\"RGBA\", size, (255, 255, 255, 0))\n",
    "    # scale emoji up a bit to look nice\n",
    "    scale = min(size[0] * 0.75 / img.width, size[1] * 0.75 / img.height)\n",
    "    new_w = max(1, int(img.width * scale))\n",
    "    new_h = max(1, int(img.height * scale))\n",
    "    resized = img.resize((new_w, new_h), Image.Resampling.LANCZOS)\n",
    "    x = (size[0] - new_w) // 2\n",
    "    y = (size[1] - new_h) // 2\n",
    "    canvas.alpha_composite(resized, (x, y))\n",
    "    return canvas\n",
    "\n",
    "def affine_from_e(e1, e2, center):\n",
    "    \"\"\"Return PIL affine inverse coefficients for shear-like mapping:\n",
    "       [x'] = [1+e1  e2 ] [x]\n",
    "       [y']   [ e2  1-e1] [y]\n",
    "    about 'center'.\n",
    "    \"\"\"\n",
    "    cx, cy = center\n",
    "    M = np.array([[1+e1, e2,   0],\n",
    "                  [e2,   1-e1, 0],\n",
    "                  [0,    0,    1]], dtype=float)\n",
    "    T1 = np.array([[1,0,-cx],[0,1,-cy],[0,0,1]], dtype=float)\n",
    "    T2 = np.array([[1,0, cx],[0,1, cy],[0,0,1]], dtype=float)\n",
    "    A = T2 @ M @ T1\n",
    "    Ainv = np.linalg.inv(A)\n",
    "    a, b, c = Ainv[0,0], Ainv[0,1], Ainv[0,2]\n",
    "    d, e, f = Ainv[1,0], Ainv[1,1], Ainv[1,2]\n",
    "    return (a,b,c,d,e,f)\n",
    "\n",
    "def apply_shear(img: Image.Image, e1=0.0, e2=0.0) -> Image.Image:\n",
    "    cx, cy = img.size[0]/2, img.size[1]/2\n",
    "    coeffs = affine_from_e(e1, e2, (cx, cy))\n",
    "    return img.transform(\n",
    "        img.size,\n",
    "        Image.Transform.AFFINE,\n",
    "        coeffs,\n",
    "        resample=Image.Resampling.BICUBIC,\n",
    "        fillcolor=(255,255,255,0)\n",
    "    )\n"
   ]
  },
  {
   "cell_type": "code",
   "execution_count": 10,
   "metadata": {},
   "outputs": [
    {
     "name": "stdout",
     "output_type": "stream",
     "text": [
      "Saved files:\n",
      "  base: twemoji_shears/emoji_twemoji_base.png\n",
      "  emoji_twemoji_e1_pos.png: twemoji_shears/emoji_twemoji_e1_pos.png\n",
      "  emoji_twemoji_e1_neg.png: twemoji_shears/emoji_twemoji_e1_neg.png\n",
      "  emoji_twemoji_e2_pos.png: twemoji_shears/emoji_twemoji_e2_pos.png\n",
      "  emoji_twemoji_e2_neg.png: twemoji_shears/emoji_twemoji_e2_neg.png\n"
     ]
    }
   ],
   "source": [
    "# --- Run ---\n",
    "emoji = download_png(TWE_URL)\n",
    "base = paste_center(emoji, CANVAS)\n",
    "base_path = os.path.join(OUTDIR, \"emoji_twemoji_base.png\")\n",
    "base.save(base_path)\n",
    "\n",
    "variants = {\n",
    "    \"emoji_twemoji_e1_pos.png\": ( E_MAG,  0.0),\n",
    "    \"emoji_twemoji_e1_neg.png\": (-E_MAG,  0.0),\n",
    "    \"emoji_twemoji_e2_pos.png\": ( 0.0,    E_MAG),\n",
    "    \"emoji_twemoji_e2_neg.png\": ( 0.0,   -E_MAG),\n",
    "}\n",
    "\n",
    "paths = {\"base\": base_path}\n",
    "for fname, (e1, e2) in variants.items():\n",
    "    out = apply_shear(base, e1=e1, e2=e2)\n",
    "    path = os.path.join(OUTDIR, fname)\n",
    "    out.save(path)\n",
    "    paths[fname] = path\n",
    "\n",
    "print(\"Saved files:\")\n",
    "for k,v in paths.items():\n",
    "    print(f\"  {k}: {v}\")"
   ]
  },
  {
   "cell_type": "code",
   "execution_count": null,
   "metadata": {},
   "outputs": [],
   "source": []
  }
 ],
 "metadata": {
  "kernelspec": {
   "display_name": "yoda",
   "language": "python",
   "name": "yoda"
  },
  "language_info": {
   "codemirror_mode": {
    "name": "ipython",
    "version": 3
   },
   "file_extension": ".py",
   "mimetype": "text/x-python",
   "name": "python",
   "nbconvert_exporter": "python",
   "pygments_lexer": "ipython3",
   "version": "3.9.6"
  }
 },
 "nbformat": 4,
 "nbformat_minor": 4
}
